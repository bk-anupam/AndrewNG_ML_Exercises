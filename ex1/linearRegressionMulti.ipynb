{
 "cells": [
  {
   "cell_type": "code",
   "execution_count": 4,
   "metadata": {},
   "outputs": [
    {
     "name": "stdout",
     "output_type": "stream",
     "text": [
      "D:\\Anupam_Technical\\Coursera\\Anupam_ANG_ML\\AndrewNG_ML_Exercises\\ex1\\data\n"
     ]
    },
    {
     "data": {
      "text/html": [
       "<div>\n",
       "<style scoped>\n",
       "    .dataframe tbody tr th:only-of-type {\n",
       "        vertical-align: middle;\n",
       "    }\n",
       "\n",
       "    .dataframe tbody tr th {\n",
       "        vertical-align: top;\n",
       "    }\n",
       "\n",
       "    .dataframe thead th {\n",
       "        text-align: right;\n",
       "    }\n",
       "</style>\n",
       "<table border=\"1\" class=\"dataframe\">\n",
       "  <thead>\n",
       "    <tr style=\"text-align: right;\">\n",
       "      <th></th>\n",
       "      <th>Size</th>\n",
       "      <th>NoOfBedrooms</th>\n",
       "      <th>Price</th>\n",
       "    </tr>\n",
       "  </thead>\n",
       "  <tbody>\n",
       "    <tr>\n",
       "      <th>0</th>\n",
       "      <td>2104</td>\n",
       "      <td>3</td>\n",
       "      <td>399900</td>\n",
       "    </tr>\n",
       "    <tr>\n",
       "      <th>1</th>\n",
       "      <td>1600</td>\n",
       "      <td>3</td>\n",
       "      <td>329900</td>\n",
       "    </tr>\n",
       "    <tr>\n",
       "      <th>2</th>\n",
       "      <td>2400</td>\n",
       "      <td>3</td>\n",
       "      <td>369000</td>\n",
       "    </tr>\n",
       "    <tr>\n",
       "      <th>3</th>\n",
       "      <td>1416</td>\n",
       "      <td>2</td>\n",
       "      <td>232000</td>\n",
       "    </tr>\n",
       "    <tr>\n",
       "      <th>4</th>\n",
       "      <td>3000</td>\n",
       "      <td>4</td>\n",
       "      <td>539900</td>\n",
       "    </tr>\n",
       "  </tbody>\n",
       "</table>\n",
       "</div>"
      ],
      "text/plain": [
       "   Size  NoOfBedrooms   Price\n",
       "0  2104             3  399900\n",
       "1  1600             3  329900\n",
       "2  2400             3  369000\n",
       "3  1416             2  232000\n",
       "4  3000             4  539900"
      ]
     },
     "execution_count": 4,
     "metadata": {},
     "output_type": "execute_result"
    }
   ],
   "source": [
    "import numpy as np\n",
    "import pandas as pd\n",
    "import matplotlib.pyplot as plt\n",
    "import os\n",
    "\n",
    "# load and inspect the dataset\n",
    "current_dir = os.getcwd()\n",
    "os.chdir('D:\\Anupam_Technical\\Coursera\\Anupam_ANG_ML\\AndrewNG_ML_Exercises\\ex1\\data')\n",
    "print(current_dir)\n",
    "input_df = pd.read_csv('ex1data2.txt', sep=',', header=None, names=['Size', 'NoOfBedrooms', 'Price'])\n",
    "input_df.head()"
   ]
  },
  {
   "cell_type": "code",
   "execution_count": 5,
   "metadata": {},
   "outputs": [],
   "source": [
    "# extract the feature vectors from the dataframe\n",
    "\n",
    "def extract_features(df):\n",
    "    X = df.iloc[:, 0:-1].values\n",
    "    y = df.iloc[:, -1].values.reshape(-1, 1)\n",
    "    m = len(X)\n",
    "    return X, y, m\n",
    "\n",
    "input_features, y, m = extract_features(input_df)"
   ]
  },
  {
   "cell_type": "code",
   "execution_count": 6,
   "metadata": {},
   "outputs": [],
   "source": [
    "# perform feature normalization\n",
    "\n",
    "def normalize_features(X):\n",
    "    for col_num in range(X.shape[1]):\n",
    "        col_mean = np.mean(X[:, col_num])\n",
    "        col_std = np.std(X[:, col_num])\n",
    "        X[:, col_num] = (X[:, col_num] - col_mean) / col_std\n",
    "    return X\n",
    "\n",
    "X = normalize_features(input_features.copy())\n",
    "# add vector of all 1's as the first feature vector\n",
    "one_vector = np.ones(len(X)).reshape(len(X), 1)\n",
    "X = np.concatenate((one_vector, X), axis=1)"
   ]
  },
  {
   "cell_type": "code",
   "execution_count": 7,
   "metadata": {},
   "outputs": [],
   "source": [
    "# the vectorized cost function\n",
    "def compute_cost(X, theta, y, m):\n",
    "    J = 0\n",
    "    J = np.dot(np.transpose((np.dot(X, theta) - y)), (np.dot(X, theta) - y))\n",
    "    return J[0][0] / (2 * m)\n",
    "\n",
    "\n",
    "def gradient_descent(X, y, theta, alpha, no_iters, m):\n",
    "    J_history = np.zeros((no_iters, 1))\n",
    "    for iteration in range(no_iters):\n",
    "        J_history[iteration] = compute_cost(X, theta, y, m)\n",
    "        h = np.dot(X, theta)\n",
    "        err = h - y\n",
    "        theta_err = alpha * (np.dot(np.transpose(X), err) / m)\n",
    "        theta = theta - theta_err\n",
    "    return theta, J_history"
   ]
  },
  {
   "cell_type": "code",
   "execution_count": 8,
   "metadata": {},
   "outputs": [],
   "source": [
    "# initialize theta, learning rate alpha and no of iterations\n",
    "theta = np.zeros((X.shape[1], 1))\n",
    "alpha = 0.01\n",
    "num_iters = 400\n",
    "theta, J_history = gradient_descent(X, y, theta, alpha, num_iters, m)"
   ]
  },
  {
   "cell_type": "code",
   "execution_count": 9,
   "metadata": {},
   "outputs": [
    {
     "data": {
      "image/png": "[encoded data removed]",
      "text/plain": [
       "<Figure size 432x288 with 1 Axes>"
      ]
     },
     "metadata": {
      "needs_background": "light"
     },
     "output_type": "display_data"
    },
    {
     "name": "stdout",
     "output_type": "stream",
     "text": [
      "Theta computed from gradient descent: [[316903.67787033]\n",
      " [103170.32196862]\n",
      " [ 39227.13822499]]\n"
     ]
    }
   ],
   "source": [
    "# plot the cost function vs the number of iterations\n",
    "\n",
    "def plot_cost_vs_iteration(J_history, no_iters):\n",
    "    iter_arr = np.arange(1, no_iters+1).reshape(no_iters, 1)\n",
    "    fig, ax_costiter = plt.subplots()\n",
    "    ax_costiter.plot(iter_arr, J_history, color='green')\n",
    "    plt.xlabel('No of iterations')\n",
    "    plt.ylabel('Cost')\n",
    "    plt.title('Cost vs No of iterations')\n",
    "    plt.show()\n",
    "    \n",
    "plot_cost_vs_iteration(J_history, num_iters)\n",
    "print(\"Theta computed from gradient descent: {}\".format(theta))    "
   ]
  },
  {
   "cell_type": "code",
   "execution_count": 10,
   "metadata": {},
   "outputs": [
    {
     "name": "stdout",
     "output_type": "stream",
     "text": [
      "Predicted price of house of size 1650 sqft with 3 bedrooms is 262016.19340647967$\n"
     ]
    }
   ],
   "source": [
    "# make prediction\n",
    "house = np.array([[1, (1650 - np.mean(input_features[:, 0]))/np.std(input_features[:, 0]),\n",
    "                       (3 - np.mean(input_features[:, 1]))/np.std(input_features[:, 1])]])\n",
    "predicted_price = np.dot(house, theta)\n",
    "print(\"Predicted price of house of size 1650 sqft with 3 bedrooms is {}$\".format(predicted_price[0][0]))"
   ]
  }
 ],
 "metadata": {
  "kernelspec": {
   "display_name": "Python 3",
   "language": "python",
   "name": "python3"
  },
  "language_info": {
   "codemirror_mode": {
    "name": "ipython",
    "version": 3
   },
   "file_extension": ".py",
   "mimetype": "text/x-python",
   "name": "python",
   "nbconvert_exporter": "python",
   "pygments_lexer": "ipython3",
   "version": "3.7.3"
  }
 },
 "nbformat": 4,
 "nbformat_minor": 2
}
