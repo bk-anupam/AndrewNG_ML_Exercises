{
 "cells": [
  {
   "cell_type": "code",
   "execution_count": 8,
   "metadata": {},
   "outputs": [
    {
     "name": "stdout",
     "output_type": "stream",
     "text": [
      "D:\\Anupam_Technical\\Coursera\\Anupam_ANG_ML\\AndrewNG_ML_Exercises\\ex1\\data\n"
     ]
    },
    {
     "data": {
      "text/html": [
       "<div>\n",
       "<style scoped>\n",
       "    .dataframe tbody tr th:only-of-type {\n",
       "        vertical-align: middle;\n",
       "    }\n",
       "\n",
       "    .dataframe tbody tr th {\n",
       "        vertical-align: top;\n",
       "    }\n",
       "\n",
       "    .dataframe thead th {\n",
       "        text-align: right;\n",
       "    }\n",
       "</style>\n",
       "<table border=\"1\" class=\"dataframe\">\n",
       "  <thead>\n",
       "    <tr style=\"text-align: right;\">\n",
       "      <th></th>\n",
       "      <th>Population</th>\n",
       "      <th>Profit</th>\n",
       "    </tr>\n",
       "  </thead>\n",
       "  <tbody>\n",
       "    <tr>\n",
       "      <th>0</th>\n",
       "      <td>6.1101</td>\n",
       "      <td>17.5920</td>\n",
       "    </tr>\n",
       "    <tr>\n",
       "      <th>1</th>\n",
       "      <td>5.5277</td>\n",
       "      <td>9.1302</td>\n",
       "    </tr>\n",
       "    <tr>\n",
       "      <th>2</th>\n",
       "      <td>8.5186</td>\n",
       "      <td>13.6620</td>\n",
       "    </tr>\n",
       "    <tr>\n",
       "      <th>3</th>\n",
       "      <td>7.0032</td>\n",
       "      <td>11.8540</td>\n",
       "    </tr>\n",
       "    <tr>\n",
       "      <th>4</th>\n",
       "      <td>5.8598</td>\n",
       "      <td>6.8233</td>\n",
       "    </tr>\n",
       "  </tbody>\n",
       "</table>\n",
       "</div>"
      ],
      "text/plain": [
       "   Population   Profit\n",
       "0      6.1101  17.5920\n",
       "1      5.5277   9.1302\n",
       "2      8.5186  13.6620\n",
       "3      7.0032  11.8540\n",
       "4      5.8598   6.8233"
      ]
     },
     "execution_count": 8,
     "metadata": {},
     "output_type": "execute_result"
    }
   ],
   "source": [
    "import pandas as pd\n",
    "import numpy as np\n",
    "import os\n",
    "import matplotlib.pyplot as plt\n",
    "\n",
    "current_dir = os.getcwd()\n",
    "os.chdir('D:\\Anupam_Technical\\Coursera\\Anupam_ANG_ML\\AndrewNG_ML_Exercises\\ex1\\data')\n",
    "print(current_dir)\n",
    "inputDF = pd.read_csv('ex1data1.txt', sep=',', header=None, names=['Population','Profit'])\n",
    "inputDF.head()"
   ]
  },
  {
   "cell_type": "code",
   "execution_count": 11,
   "metadata": {},
   "outputs": [
    {
     "data": {
      "image/png": "[encoded data removed]",
      "text/plain": [
       "<Figure size 432x288 with 1 Axes>"
      ]
     },
     "metadata": {
      "needs_background": "light"
     },
     "output_type": "display_data"
    }
   ],
   "source": [
    "# do an EDA by plotting the data\n",
    "inputDF.plot(kind='scatter', x='Population', y='Profit')\n",
    "plt.xlabel('Population of city in 10,000s')\n",
    "plt.ylabel('Profit in $10,000s')\n",
    "plt.title(\"Profit vs Population\")\n",
    "plt.show()"
   ]
  },
  {
   "cell_type": "code",
   "execution_count": 81,
   "metadata": {},
   "outputs": [],
   "source": [
    "# the feature matrix X\n",
    "X = inputDF.iloc[:, 0:1].values\n",
    "one_vector = np.ones(len(X)).reshape(len(X), 1)\n",
    "X = np.concatenate((one_vector, X), axis=1)\n",
    "# the vector y\n",
    "y = inputDF.iloc[:, 1:2].values\n",
    "m = len(X)"
   ]
  },
  {
   "cell_type": "code",
   "execution_count": 65,
   "metadata": {},
   "outputs": [
    {
     "name": "stdout",
     "output_type": "stream",
     "text": [
      "cost with theta values set to [[0.]\n",
      " [0.]] : 32.07273387745567\n",
      "cost with theta values set to [[-1]\n",
      " [ 2]] : 54.24245508201238\n"
     ]
    }
   ],
   "source": [
    "# the vectorized cost function\n",
    "def compute_cost(X, theta, y):\n",
    "    J = 0            \n",
    "    J = np.dot(np.transpose((np.dot(X, theta) - y)), (np.dot(X, theta) - y))\n",
    "    return J[0][0] / (2 * m)      \n",
    "    \n",
    "# now initialize theta with all zeros\n",
    "theta = np.zeros(2).reshape(2,1)\n",
    "initial_cost = compute_cost(X, theta, y)\n",
    "print(\"cost with theta values set to {} : {}\".format(theta, initial_cost))\n",
    "theta2 = np.array([[-1],[2]])\n",
    "initial_cost2 = compute_cost(X, theta2, y)\n",
    "print(\"cost with theta values set to {} : {}\".format(theta2, initial_cost2))\n"
   ]
  },
  {
   "cell_type": "code",
   "execution_count": 80,
   "metadata": {},
   "outputs": [
    {
     "name": "stdout",
     "output_type": "stream",
     "text": [
      "Running gradient descent on training dataset\n",
      "Theta found by gradient descent:\n",
      " [[-3.63029144]\n",
      " [ 1.16636235]]\n",
      "Expected theta value:\n",
      "-3.6303\n",
      "1.1664\n",
      "\n"
     ]
    }
   ],
   "source": [
    "# the gradient descent (vectorized version)\n",
    "# alpha = learning rate\n",
    "# m = no. of training examples\n",
    "# theta = theta - (alpha / m) * [Xtranspose * (X.theta - y)]\n",
    "\n",
    "def gradient_descent(X, y, theta, alpha, no_iters):\n",
    "    J_history = np.zeros((no_iters, 1))\n",
    "    for iteration in range(no_iters):\n",
    "        J_history[iteration] = compute_cost(X, theta, y)        \n",
    "        h = np.dot(X, theta)        \n",
    "        err = h - y\n",
    "        theta_err = alpha * (np.dot(np.transpose(X), err) / m)\n",
    "        theta = theta - theta_err\n",
    "    return theta   \n",
    "\n",
    "# initialize the learning rate and no of iterations for gradient descent\n",
    "alpha = 0.01\n",
    "no_iters = 1500\n",
    "print('Running gradient descent on training dataset')\n",
    "result_theta = gradient_descent(X, y, theta, alpha, no_iters)\n",
    "print(\"Theta found by gradient descent:\\n {}\".format(result_theta))\n",
    "print(\"Expected theta value:\\n-3.6303\\n1.1664\\n\")"
   ]
  },
  {
   "cell_type": "code",
   "execution_count": 85,
   "metadata": {},
   "outputs": [
    {
     "data": {
      "image/png": "[encoded data removed]",
      "text/plain": [
       "<Figure size 432x288 with 1 Axes>"
      ]
     },
     "metadata": {
      "needs_background": "light"
     },
     "output_type": "display_data"
    }
   ],
   "source": [
    "# plot the linear fit\n",
    "inputDF.plot(kind='scatter', x='Population', y='Profit')\n",
    "plt.xlabel('Population of city in 10,000s')\n",
    "plt.ylabel('Profit in $10,000s')\n",
    "plt.title(\"Profit vs Population\")\n",
    "predicted_profit = np.dot(X, result_theta)\n",
    "population = X[:, 1]\n",
    "plt.plot(population, predicted_profit, color = 'red')\n",
    "plt.show()"
   ]
  },
  {
   "cell_type": "code",
   "execution_count": 94,
   "metadata": {},
   "outputs": [
    {
     "name": "stdout",
     "output_type": "stream",
     "text": [
      "For population of 35000 the predicted profit is: 451.9767867701767$\n",
      "For population of 70000 the predicted profit is: 4534.245012944714$\n"
     ]
    }
   ],
   "source": [
    "# Make predictions\n",
    "population1 = np.array([[1, 3.5]])\n",
    "prediction1 = np.dot(population1, result_theta)\n",
    "print(\"For population of 35000 the predicted profit is: {}$\".format(prediction1[0,0] * 1000))\n",
    "population2 = np.array([[1, 7]])\n",
    "prediction1 = np.dot(population2, result_theta)\n",
    "print(\"For population of 70000 the predicted profit is: {}$\".format(prediction1[0,0] * 1000))"
   ]
  }
 ],
 "metadata": {
  "kernelspec": {
   "display_name": "Python 3",
   "language": "python",
   "name": "python3"
  },
  "language_info": {
   "codemirror_mode": {
    "name": "ipython",
    "version": 3
   },
   "file_extension": ".py",
   "mimetype": "text/x-python",
   "name": "python",
   "nbconvert_exporter": "python",
   "pygments_lexer": "ipython3",
   "version": "3.7.3"
  }
 },
 "nbformat": 4,
 "nbformat_minor": 2
}
